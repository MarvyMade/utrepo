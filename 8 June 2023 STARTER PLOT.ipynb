{
 "cells": [
  {
   "cell_type": "markdown",
   "id": "d59d3776",
   "metadata": {},
   "source": [
    "STARTER PLOT\n",
    "this is a graph that uses dots to represent values for two numeric variables.\n",
    "starter plots are used to observe relationships between varables and are especially useful if you're looking for correlations"
   ]
  },
  {
   "cell_type": "code",
   "execution_count": null,
   "id": "b08280bd",
   "metadata": {},
   "outputs": [],
   "source": []
  }
 ],
 "metadata": {
  "kernelspec": {
   "display_name": "Python 3 (ipykernel)",
   "language": "python",
   "name": "python3"
  },
  "language_info": {
   "codemirror_mode": {
    "name": "ipython",
    "version": 3
   },
   "file_extension": ".py",
   "mimetype": "text/x-python",
   "name": "python",
   "nbconvert_exporter": "python",
   "pygments_lexer": "ipython3",
   "version": "3.11.4"
  }
 },
 "nbformat": 4,
 "nbformat_minor": 5
}
